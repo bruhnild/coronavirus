{
 "cells": [
  {
   "cell_type": "code",
   "execution_count": 41,
   "metadata": {},
   "outputs": [
    {
     "name": "stdout",
     "output_type": "stream",
     "text": [
      "/home/mfu/Documents/Projets/coronavirus\n"
     ]
    },
    {
     "data": {
      "text/plain": [
       "('data/sources/poi_osm.csv', <http.client.HTTPMessage at 0x7fe6ae6792d0>)"
      ]
     },
     "execution_count": 41,
     "metadata": {},
     "output_type": "execute_result"
    }
   ],
   "source": [
    "%cd /home/mfu/Documents/Projets/coronavirus\n",
    "\n",
    "import urllib.request\n",
    "\n",
    "\"\"\"\n",
    "Lieux ouverts ou fermés pendant le confinement Covid-19 \n",
    "Extrait des données brutes de \"Ça reste ouvert\" : liste des lieux ouverts ou fermés pendant la période de confinement. \n",
    "\n",
    "Lien vers les données : https://www.data.gouv.fr/fr/datasets/lieux-ouverts-ou-fermes-pendant-le-confinement-covid-19/\n",
    "\"\"\"\n",
    "\n",
    "url = 'https://download.osmontrouge.fr/caresteouvert/poi_osm.csv'\n",
    "filename = 'data/sources/poi_osm.csv'\n",
    "urllib.request.urlretrieve(url, filename)"
   ]
  },
  {
   "cell_type": "code",
   "execution_count": 42,
   "metadata": {},
   "outputs": [
    {
     "name": "stdout",
     "output_type": "stream",
     "text": [
      "Number of points within polygon:  9760\n"
     ]
    }
   ],
   "source": [
    "from shapely import geometry\n",
    "import geopandas as gpd\n",
    "import pandas as pd\n",
    "\n",
    "file = r'data/sources/poi_osm.csv'\n",
    "crs = {'init': 'epsg:4326'}\n",
    "\n",
    "#Create a geoseries holding the single polygon. Coordinates in counter-clockwise order\n",
    "pointList = [(42.6891630161957, 0.4416817095667),(43.9215181349401, 0.4416817095667),(43.9215181349401, 2.04830362722409),(42.6891630161957, 2.04830362722409)]\n",
    "poly = geometry.Polygon(pointList)\n",
    "spoly = gpd.GeoSeries([poly],crs=crs)\n",
    "#Create geodataframe of points\n",
    "dfcsv = pd.read_csv(file, encoding='utf-8', sep=',', dtype={'url_hours': str}, usecols=[1,2,3,4,5,6,7,8,9,10])\n",
    "geometry = [geometry.Point(xy) for xy in zip(dfcsv.lat, dfcsv.lon)]\n",
    "dfpoints = gpd.GeoDataFrame(dfcsv, crs=crs, geometry=geometry)\n",
    "#Create a subset dataframe of points within the polygon\n",
    "subset = dfpoints[dfpoints.within(spoly.geometry.iloc[0])]\n",
    "print('Number of points within polygon: ', subset.shape[0])\n",
    "subset.to_csv(\"data/sources_traitees/caresteouvert.csv\", columns=['name', 'cat', 'brand', 'wikidata', 'url_hours', 'infos', 'status', 'opening_hours', 'lon', 'lat'], index=False, encoding='utf8', sep=',')"
   ]
  },
  {
   "cell_type": "code",
   "execution_count": 43,
   "metadata": {
    "scrolled": true
   },
   "outputs": [
    {
     "name": "stdout",
     "output_type": "stream",
     "text": [
      "/home/mfu/Documents/Projets/coronavirus/scripts\n",
      "00_importcsv.sql\n",
      "10_update_coronapolitologue.sql\n",
      "20_update_opencovidfr.sql\n",
      "30_update_sursaud_covid19_quotidien_dep.sql\n",
      "40_update_sursaud_covid19_quotidien_reg.sql\n",
      "50_update_donneeshospitalierescovid19.sql\n",
      "60_update_donneeshospitalieresetablissementscovid19.sql\n",
      "70_donneestestscovid19laboquotidien.sql\n",
      "80_donneestestscovid19laboquotidien.sql\n",
      "90_createupdate_caresteouvert.sql\n",
      "executesql.sh\n",
      "DROP TABLE\n",
      "CREATE TABLE\n",
      "CREATE INDEX\n",
      "TRUNCATE TABLE\n",
      "COPY 9760\n",
      "UPDATE 9760\n",
      "UPDATE 9760\n",
      "UPDATE 9760\n",
      "UPDATE 9760\n",
      "UPDATE 701\n",
      "UPDATE 399\n",
      "UPDATE 1464\n",
      "UPDATE 1493\n",
      "UPDATE 328\n",
      "UPDATE 0\n",
      "UPDATE 164\n",
      "UPDATE 574\n",
      "UPDATE 24\n",
      "UPDATE 650\n"
     ]
    }
   ],
   "source": [
    "### change le répertoire courrant\n",
    "%cd scripts/ \n",
    "### affiche les fichiers/dossiers à l'intérieur\n",
    "!ls\n",
    "### exécute le script bash\n",
    "! bash executesql.sh"
   ]
  },
  {
   "cell_type": "code",
   "execution_count": null,
   "metadata": {},
   "outputs": [],
   "source": []
  }
 ],
 "metadata": {
  "kernelspec": {
   "display_name": "Python 3",
   "language": "python",
   "name": "python3"
  },
  "language_info": {
   "codemirror_mode": {
    "name": "ipython",
    "version": 3
   },
   "file_extension": ".py",
   "mimetype": "text/x-python",
   "name": "python",
   "nbconvert_exporter": "python",
   "pygments_lexer": "ipython3",
   "version": "3.7.6"
  }
 },
 "nbformat": 4,
 "nbformat_minor": 4
}
